{
 "cells": [
  {
   "cell_type": "code",
   "execution_count": 1,
   "metadata": {
    "collapsed": false
   },
   "outputs": [
    {
     "name": "stderr",
     "output_type": "stream",
     "text": [
      "Using TensorFlow backend.\n"
     ]
    }
   ],
   "source": [
    "from keras.datasets import mnist\n",
    "import matplotlib.pyplot as plt\n",
    "import numpy as np\n",
    "from scipy.misc import factorial\n",
    "from scipy.stats import poisson\n",
    "from sklearn import metrics"
   ]
  },
  {
   "cell_type": "code",
   "execution_count": 2,
   "metadata": {
    "collapsed": false
   },
   "outputs": [
    {
     "data": {
      "image/png": "[encoded data removed]",
      "text/plain": [
       "<matplotlib.figure.Figure at 0x13a44337518>"
      ]
     },
     "metadata": {},
     "output_type": "display_data"
    }
   ],
   "source": [
    "# load (downloaded if needed) the MNIST dataset\n",
    "(X_train, y_train), (X_test, y_test) = mnist.load_data()\n",
    "# plot 4 images as gray scale\n",
    "plt.subplot(221)\n",
    "plt.imshow(X_train[0], cmap=plt.get_cmap('gray'))\n",
    "plt.subplot(222)\n",
    "plt.imshow(X_train[1], cmap=plt.get_cmap('gray'))\n",
    "plt.subplot(223)\n",
    "plt.imshow(X_train[2], cmap=plt.get_cmap('gray'))\n",
    "plt.subplot(224)\n",
    "plt.imshow(X_train[3], cmap=plt.get_cmap('gray'))\n",
    "# show the plot\n",
    "plt.show()"
   ]
  },
  {
   "cell_type": "code",
   "execution_count": 3,
   "metadata": {
    "collapsed": false
   },
   "outputs": [
    {
     "data": {
      "text/plain": [
       "(60000, 28, 28)"
      ]
     },
     "execution_count": 3,
     "metadata": {},
     "output_type": "execute_result"
    }
   ],
   "source": [
    "X_train.shape"
   ]
  },
  {
   "cell_type": "code",
   "execution_count": 4,
   "metadata": {
    "collapsed": false
   },
   "outputs": [
    {
     "data": {
      "text/plain": [
       "(10000, 28, 28)"
      ]
     },
     "execution_count": 4,
     "metadata": {},
     "output_type": "execute_result"
    }
   ],
   "source": [
    "X_test.shape"
   ]
  },
  {
   "cell_type": "code",
   "execution_count": 5,
   "metadata": {
    "collapsed": false
   },
   "outputs": [
    {
     "data": {
      "text/plain": [
       "(60000,)"
      ]
     },
     "execution_count": 5,
     "metadata": {},
     "output_type": "execute_result"
    }
   ],
   "source": [
    "y_train.shape"
   ]
  },
  {
   "cell_type": "code",
   "execution_count": 6,
   "metadata": {
    "collapsed": false
   },
   "outputs": [
    {
     "data": {
      "text/plain": [
       "(10000,)"
      ]
     },
     "execution_count": 6,
     "metadata": {},
     "output_type": "execute_result"
    }
   ],
   "source": [
    "y_test.shape"
   ]
  },
  {
   "cell_type": "code",
   "execution_count": 7,
   "metadata": {
    "collapsed": true
   },
   "outputs": [],
   "source": [
    "# flatten 28*28 images to a 784 vector for each image\n",
    "num_pixels = X_train.shape[1] * X_train.shape[2]"
   ]
  },
  {
   "cell_type": "code",
   "execution_count": 8,
   "metadata": {
    "collapsed": false
   },
   "outputs": [
    {
     "data": {
      "text/plain": [
       "784"
      ]
     },
     "execution_count": 8,
     "metadata": {},
     "output_type": "execute_result"
    }
   ],
   "source": [
    "num_pixels"
   ]
  },
  {
   "cell_type": "code",
   "execution_count": 9,
   "metadata": {
    "collapsed": true
   },
   "outputs": [],
   "source": [
    "X_train = X_train.reshape(X_train.shape[0], num_pixels)\n",
    "X_test = X_test.reshape(X_test.shape[0], num_pixels)"
   ]
  },
  {
   "cell_type": "code",
   "execution_count": 10,
   "metadata": {
    "collapsed": false
   },
   "outputs": [
    {
     "data": {
      "text/plain": [
       "(10000, 784)"
      ]
     },
     "execution_count": 10,
     "metadata": {},
     "output_type": "execute_result"
    }
   ],
   "source": [
    "X_test.shape"
   ]
  },
  {
   "cell_type": "code",
   "execution_count": 11,
   "metadata": {
    "collapsed": true
   },
   "outputs": [],
   "source": [
    "# for the number 0 calculating the the avg. value for each pixel\n",
    "avg0 =[]\n",
    "for i in range (0,784):\n",
    "    avg0.append(sum(X_train[y_train ==0,i])/(len(X_train[y_train ==0,i])))\n",
    "    "
   ]
  },
  {
   "cell_type": "code",
   "execution_count": 12,
   "metadata": {
    "collapsed": true
   },
   "outputs": [],
   "source": [
    "# for the number 1 calculating the the avg. value for each pixel\n",
    "avg1 =[]\n",
    "for i in range (0,784):\n",
    "    avg1.append(sum(X_train[y_train ==1,i])/(len(X_train[y_train ==1,i])))"
   ]
  },
  {
   "cell_type": "code",
   "execution_count": 13,
   "metadata": {
    "collapsed": true
   },
   "outputs": [],
   "source": [
    "# for the number 2 calculating the the avg. value for each pixel\n",
    "avg2 =[]\n",
    "for i in range (0,784):\n",
    "    avg2.append(sum(X_train[y_train ==2,i])/(len(X_train[y_train ==2,i])))"
   ]
  },
  {
   "cell_type": "code",
   "execution_count": 14,
   "metadata": {
    "collapsed": true
   },
   "outputs": [],
   "source": [
    "# for the number 3 calculating the the avg. value for each pixel\n",
    "avg3 =[]\n",
    "for i in range (0,784):\n",
    "    avg3.append(sum(X_train[y_train ==3,i])/(len(X_train[y_train ==3,i])))"
   ]
  },
  {
   "cell_type": "code",
   "execution_count": 15,
   "metadata": {
    "collapsed": true
   },
   "outputs": [],
   "source": [
    "# for the number 4 calculating the the avg. value for each pixel\n",
    "avg4 =[]\n",
    "for i in range (0,784):\n",
    "    avg4.append(sum(X_train[y_train ==4,i])/(len(X_train[y_train ==4,i])))"
   ]
  },
  {
   "cell_type": "code",
   "execution_count": 16,
   "metadata": {
    "collapsed": true
   },
   "outputs": [],
   "source": [
    "# for the number 5 calculating the the avg. value for each pixel\n",
    "avg5 =[]\n",
    "for i in range (0,784):\n",
    "    avg5.append(sum(X_train[y_train ==5,i])/(len(X_train[y_train ==5,i])))"
   ]
  },
  {
   "cell_type": "code",
   "execution_count": 17,
   "metadata": {
    "collapsed": true
   },
   "outputs": [],
   "source": [
    "# for the number 6 calculating the the avg. value for each pixel\n",
    "avg6 =[]\n",
    "for i in range (0,784):\n",
    "    avg6.append(sum(X_train[y_train ==6,i])/(len(X_train[y_train ==6,i])))"
   ]
  },
  {
   "cell_type": "code",
   "execution_count": 18,
   "metadata": {
    "collapsed": true
   },
   "outputs": [],
   "source": [
    "# for the number 7 calculating the the avg. value for each pixel\n",
    "avg7 =[]\n",
    "for i in range (0,784):\n",
    "    avg7.append(sum(X_train[y_train ==7,i])/(len(X_train[y_train ==7,i])))"
   ]
  },
  {
   "cell_type": "code",
   "execution_count": 19,
   "metadata": {
    "collapsed": true
   },
   "outputs": [],
   "source": [
    "# for the number 8 calculating the the avg. value for each pixel\n",
    "avg8 =[]\n",
    "for i in range (0,784):\n",
    "    avg8.append(sum(X_train[y_train ==8,i])/(len(X_train[y_train ==8,i])))"
   ]
  },
  {
   "cell_type": "code",
   "execution_count": 20,
   "metadata": {
    "collapsed": true
   },
   "outputs": [],
   "source": [
    "# for the number 9 calculating the the avg. value for each pixel\n",
    "avg9 =[]\n",
    "for i in range (0,784):\n",
    "    avg9.append(sum(X_train[y_train ==9,i])/(len(X_train[y_train ==9,i])))"
   ]
  },
  {
   "cell_type": "code",
   "execution_count": 21,
   "metadata": {
    "collapsed": false
   },
   "outputs": [
    {
     "data": {
      "text/plain": [
       "(10, 784)"
      ]
     },
     "execution_count": 21,
     "metadata": {},
     "output_type": "execute_result"
    }
   ],
   "source": [
    "# putting the avg values for each number into a single array\n",
    "avg = np.array([avg0,avg1,avg2,avg3,avg4,avg5,avg6,avg7,avg8,avg9])\n",
    "avg.shape"
   ]
  },
  {
   "cell_type": "code",
   "execution_count": 22,
   "metadata": {
    "collapsed": true
   },
   "outputs": [],
   "source": [
    "#predicting a number using poissons distribution for a given input\n",
    "X_predicted =[]\n",
    "for j in range(0,len(X_test)):\n",
    "    \n",
    "    a1 =np.zeros(shape=(10,1))\n",
    "    \n",
    "    for i in range (0,10):\n",
    "        dist = poisson(avg[i])\n",
    "        a1[i]=sum(np.log(dist.pmf(X_test[j]) +1e-250))\n",
    "\n",
    "    b =list(a1)\n",
    "    \n",
    "    X_predicted.append(b.index(max(a1)))\n"
   ]
  },
  {
   "cell_type": "code",
   "execution_count": 23,
   "metadata": {
    "collapsed": true
   },
   "outputs": [],
   "source": [
    "X_predicted = np.array(X_predicted)"
   ]
  },
  {
   "cell_type": "code",
   "execution_count": 24,
   "metadata": {
    "collapsed": false
   },
   "outputs": [
    {
     "data": {
      "text/plain": [
       "(10000,)"
      ]
     },
     "execution_count": 24,
     "metadata": {},
     "output_type": "execute_result"
    }
   ],
   "source": [
    "X_predicted.shape"
   ]
  },
  {
   "cell_type": "code",
   "execution_count": 25,
   "metadata": {
    "collapsed": false
   },
   "outputs": [
    {
     "name": "stdout",
     "output_type": "stream",
     "text": [
      "Accuracy is 82.57 %\n"
     ]
    }
   ],
   "source": [
    "count =0\n",
    "for k in range(0,len(X_predicted)):\n",
    "    \n",
    "    if X_predicted[k]== y_test[k]:\n",
    "        count = count +1\n",
    "        \n",
    "print(\"Accuracy is\",(count/10000)*100, \"%\")        "
   ]
  },
  {
   "cell_type": "code",
   "execution_count": 26,
   "metadata": {
    "collapsed": false
   },
   "outputs": [
    {
     "name": "stdout",
     "output_type": "stream",
     "text": [
      "[[ 879    0    3    6    0   38   20    1   32    1]\n",
      " [   0 1086    4    3    0    5    4    0   32    1]\n",
      " [  18   43  814   23   17    4   40   16   55    2]\n",
      " [   5   28   36  823    1   20   11   11   45   30]\n",
      " [   3   10    4    0  733    0   22    1   22  187]\n",
      " [  19   34    4   94   25  615   17   10   37   37]\n",
      " [  19   27   13    0   17   25  845    0   11    1]\n",
      " [   2   39   13    3   16    0    1  855   29   70]\n",
      " [  11   50   12   56   14   20    9    7  751   44]\n",
      " [  11   20    4    8   65    5    1   15   24  856]]\n"
     ]
    }
   ],
   "source": [
    "print(metrics.confusion_matrix(y_test,X_predicted))"
   ]
  },
  {
   "cell_type": "code",
   "execution_count": null,
   "metadata": {
    "collapsed": true
   },
   "outputs": [],
   "source": []
  }
 ],
 "metadata": {
  "kernelspec": {
   "display_name": "Python 3",
   "language": "python",
   "name": "python3"
  },
  "language_info": {
   "codemirror_mode": {
    "name": "ipython",
    "version": 3
   },
   "file_extension": ".py",
   "mimetype": "text/x-python",
   "name": "python",
   "nbconvert_exporter": "python",
   "pygments_lexer": "ipython3",
   "version": "3.6.0"
  }
 },
 "nbformat": 4,
 "nbformat_minor": 2
}
